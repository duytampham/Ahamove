{
 "cells": [
  {
   "cell_type": "code",
   "execution_count": 2,
   "metadata": {
    "collapsed": true
   },
   "outputs": [],
   "source": [
    "import datetime, calendar\n",
    "from darksky import forecast\n",
    "from datetime import datetime as dt\n",
    "import csv\n",
    "import json\n",
    "\n",
    "# Function get all date of month, year\n",
    "def getAllDay(month, year):\n",
    "    num_days = calendar.monthrange(year, month)[1]\n",
    "    days = [datetime.date(year, month, day) for day in range(1, num_days + 1)]\n",
    "    return days\n",
    "\n",
    "# Function use Dark Sky API, get weather data by city and day\n",
    "def getWeatherData(days, CITY):\n",
    "    results = []\n",
    "    for d in days:\n",
    "        city = forecast(*CITY, time=(dt(d.year, d.month, d.day)).isoformat())\n",
    "        city = city.currently\n",
    "        result = dict( temp = city.temperature,\n",
    "                    sum = city.summary,\n",
    "                    pre = city.precipType,\n",
    "                    hum = city.humidity,\n",
    "                    icon = city.icon)\n",
    "        results.append([json.dumps(result)])\n",
    "    return results\n",
    "\n",
    "# Function write data to *.csv\n",
    "def writeCSV(nameFile, days, weather_data, city_id):\n",
    "    with open(nameFile, 'w') as csvfile:\n",
    "        fieldnames = ['ID', 'Date', 'Data', 'City ID']\n",
    "        writer = csv.DictWriter(csvfile, fieldnames=fieldnames)\n",
    "        i  = 0\n",
    "        for wd in weather_data:\n",
    "            writer.writerow({'ID': city_id + (days[i]).isoformat(), 'Date': days[i], 'Data': wd, 'City ID': city_id})\n",
    "            i  = i + 1"
   ]
  },
  {
   "cell_type": "code",
   "execution_count": 3,
   "metadata": {
    "collapsed": true
   },
   "outputs": [],
   "source": [
    "# API Key, coordinate of Ho Chi Minh city\n",
    "HCM = 'f004134fecbca6b0d653f07ae1b82fe0', 10.8231, 106.6297\n",
    "# Get all date of January, 2017\n",
    "days_jan = getAllDay(1, 2017)\n",
    "# Get all date of February, 2017 \n",
    "days_feb = getAllDay(2, 2017)\n",
    "# Get weather data of January, 2017\n",
    "weather_data_jan = getWeatherData(days_jan, HCM)\n",
    "# Get weather data of February, 2017\n",
    "weather_data_feb = getWeatherData(days_feb, HCM)\n",
    "# Write data to 'data_weather.csv'\n",
    "writeCSV('data_weather.csv', days_jan + days_feb, weather_data_jan + weather_data_feb, 'HCM')"
   ]
  }
 ],
 "metadata": {
  "kernelspec": {
   "display_name": "Python 2",
   "language": "python",
   "name": "python2"
  },
  "language_info": {
   "codemirror_mode": {
    "name": "ipython",
    "version": 2
   },
   "file_extension": ".py",
   "mimetype": "text/x-python",
   "name": "python",
   "nbconvert_exporter": "python",
   "pygments_lexer": "ipython2",
   "version": "2.7.6"
  }
 },
 "nbformat": 4,
 "nbformat_minor": 2
}
